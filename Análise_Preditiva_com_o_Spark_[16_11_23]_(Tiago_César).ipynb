{
  "nbformat": 4,
  "nbformat_minor": 0,
  "metadata": {
    "colab": {
      "provenance": []
    },
    "kernelspec": {
      "name": "python3",
      "display_name": "Python 3"
    },
    "language_info": {
      "name": "python"
    }
  },
  "cells": [
    {
      "cell_type": "markdown",
      "source": [
        "# Atividade 1 - Análise Preditiva com o Spark\n",
        "\n",
        "Discente: Tiago César da Silva Lopes\n",
        "\n",
        "Data: 16/11/23"
      ],
      "metadata": {
        "id": "3QcdExDyF57h"
      }
    },
    {
      "cell_type": "markdown",
      "source": [
        "## Informações sobre o projeto"
      ],
      "metadata": {
        "id": "-Hm6tamBaCEU"
      }
    },
    {
      "cell_type": "markdown",
      "source": [
        "data set: calculo_renal.csv\n",
        "\n",
        "Este conjunto de dados pode ser usado para prever a presença de cálculos renais com base na análise de urina. As amostras de urina foram analisadas para\n",
        "determinar se certas características físicas da urina podem estar relacionadas com a formação de cristais de oxalato de cálcio.\n",
        "\n",
        "Dicionário:\n",
        "As seis características físicas da urina são:\n",
        "id - ID do registro\n",
        "gravidade -  gravidade específica;\n",
        "ph - pH;  \n",
        "osmo - osmolaridade;\n",
        "cond - condutividade (mMho miliMho). A condutividade é proporcional à concentração de carga íons em solução;\n",
        "ureia - concentração de ureia em milimoles por litro;\n",
        "calcio - cálcio concentração (CALC) em milimoleslitro;\n",
        "saida - existência de calculo renal\n",
        "\n"
      ],
      "metadata": {
        "id": "OiGTsTA8GKMQ"
      }
    },
    {
      "cell_type": "markdown",
      "source": [
        "## Instalação e exibição inicial do dataset"
      ],
      "metadata": {
        "id": "kOZuS8ONGcqf"
      }
    },
    {
      "cell_type": "code",
      "source": [
        "!pip install pyspark"
      ],
      "metadata": {
        "id": "-JPtxEma9bzB",
        "colab": {
          "base_uri": "https://localhost:8080/"
        },
        "outputId": "425e3ab4-5f10-4f01-bc07-b3a7a3e86700"
      },
      "execution_count": 1,
      "outputs": [
        {
          "output_type": "stream",
          "name": "stdout",
          "text": [
            "Requirement already satisfied: pyspark in /usr/local/lib/python3.10/dist-packages (3.5.0)\n",
            "Requirement already satisfied: py4j==0.10.9.7 in /usr/local/lib/python3.10/dist-packages (from pyspark) (0.10.9.7)\n"
          ]
        }
      ]
    },
    {
      "cell_type": "code",
      "source": [
        "# Importar as bibliotecas necessárias\n",
        "from pyspark.ml.classification import DecisionTreeClassifier\n",
        "from pyspark.ml.evaluation import MulticlassClassificationEvaluator"
      ],
      "metadata": {
        "id": "-hWVzjVPXkXi"
      },
      "execution_count": 2,
      "outputs": []
    },
    {
      "cell_type": "markdown",
      "source": [
        "Iniciando uma sessão local e importando os dados:\n"
      ],
      "metadata": {
        "id": "XyrorEloA3lr"
      }
    },
    {
      "cell_type": "code",
      "source": [
        "# Iniciar uma sessão local e importar dados\n",
        "from pyspark.sql import SparkSession\n",
        "sc = SparkSession.builder.master('local[*]').getOrCreate()"
      ],
      "metadata": {
        "id": "O1IKD4r99nOO"
      },
      "execution_count": 3,
      "outputs": []
    },
    {
      "cell_type": "code",
      "source": [
        "# carregar dados do meu computador\n",
        "dados_spark = sc.read.csv(\"calculo_renal.csv\", header=True)\n",
        "\n",
        "# Verificando o tipo de objeto criado\n",
        "type(dados_spark)"
      ],
      "metadata": {
        "id": "WJ1leI6pjY4Y",
        "colab": {
          "base_uri": "https://localhost:8080/"
        },
        "outputId": "5b5746ef-40cf-46c2-9927-0f75619c97de"
      },
      "execution_count": 4,
      "outputs": [
        {
          "output_type": "execute_result",
          "data": {
            "text/plain": [
              "pyspark.sql.dataframe.DataFrame"
            ]
          },
          "metadata": {},
          "execution_count": 4
        }
      ]
    },
    {
      "cell_type": "code",
      "source": [
        "# Verificando o dataset\n",
        "dados_spark.show(5)"
      ],
      "metadata": {
        "id": "DGpFbKY_EUST",
        "colab": {
          "base_uri": "https://localhost:8080/"
        },
        "outputId": "7b2ead8b-e5dc-4ae5-8ce1-0995b145f286"
      },
      "execution_count": 5,
      "outputs": [
        {
          "output_type": "stream",
          "name": "stdout",
          "text": [
            "+---+---------+----+----+----+-----+------+-----+\n",
            "| id|gravidade|  ph|osmo|cond|ureia|calcio|saida|\n",
            "+---+---------+----+----+----+-----+------+-----+\n",
            "|  0|    1.013|6.19| 443|14.8|  124|  1.45|    0|\n",
            "|  1|    1.025| 5.4| 703|23.6|  394|  4.18|    0|\n",
            "|  2|    1.009|6.13| 371|24.5|  159|  9.04|    0|\n",
            "|  3|    1.021|4.91| 442|20.8|  398|  6.63|    1|\n",
            "|  4|    1.021|5.53| 874|17.8|  385|  2.21|    1|\n",
            "+---+---------+----+----+----+-----+------+-----+\n",
            "only showing top 5 rows\n",
            "\n"
          ]
        }
      ]
    },
    {
      "cell_type": "code",
      "source": [
        "# Verificando o schema() deste spark dataframe\n",
        "dados_spark.printSchema()"
      ],
      "metadata": {
        "id": "GW0i9-jtElLb",
        "colab": {
          "base_uri": "https://localhost:8080/"
        },
        "outputId": "778dde3e-e7b3-443f-db84-ac2bed9598a6"
      },
      "execution_count": 6,
      "outputs": [
        {
          "output_type": "stream",
          "name": "stdout",
          "text": [
            "root\n",
            " |-- id: string (nullable = true)\n",
            " |-- gravidade: string (nullable = true)\n",
            " |-- ph: string (nullable = true)\n",
            " |-- osmo: string (nullable = true)\n",
            " |-- cond: string (nullable = true)\n",
            " |-- ureia: string (nullable = true)\n",
            " |-- calcio: string (nullable = true)\n",
            " |-- saida: string (nullable = true)\n",
            "\n"
          ]
        }
      ]
    },
    {
      "cell_type": "code",
      "source": [
        "#Retornar o número de linhas\n",
        "dados_spark.count()"
      ],
      "metadata": {
        "id": "zsqKgXvXkG7U",
        "colab": {
          "base_uri": "https://localhost:8080/"
        },
        "outputId": "dd898f95-496e-46a5-f485-8f24bd3a1d4e"
      },
      "execution_count": 7,
      "outputs": [
        {
          "output_type": "execute_result",
          "data": {
            "text/plain": [
              "414"
            ]
          },
          "metadata": {},
          "execution_count": 7
        }
      ]
    },
    {
      "cell_type": "markdown",
      "source": [
        "## Análise inicial da base de dados\n",
        "\n",
        "Podemos verificar as médias de algumas colunas e a quantidades de saídas positivas e negativas que existe."
      ],
      "metadata": {
        "id": "TdCGfIXmIPnH"
      }
    },
    {
      "cell_type": "code",
      "source": [
        "#Principais estatísticas\n",
        "dados_spark.describe('ph').show(5)"
      ],
      "metadata": {
        "id": "0oflcUOakpJE",
        "colab": {
          "base_uri": "https://localhost:8080/"
        },
        "outputId": "dfbadade-d14d-438e-d9b7-33e2bb5f735f"
      },
      "execution_count": 8,
      "outputs": [
        {
          "output_type": "stream",
          "name": "stdout",
          "text": [
            "+-------+-----------------+\n",
            "|summary|               ph|\n",
            "+-------+-----------------+\n",
            "|  count|              414|\n",
            "|   mean|5.955458937198068|\n",
            "| stddev|0.642260050825236|\n",
            "|    min|             4.76|\n",
            "|    max|             7.94|\n",
            "+-------+-----------------+\n",
            "\n"
          ]
        }
      ]
    },
    {
      "cell_type": "code",
      "source": [
        "dados_spark.describe('ureia').show(5)"
      ],
      "metadata": {
        "colab": {
          "base_uri": "https://localhost:8080/"
        },
        "id": "mhU01qAIJ9dI",
        "outputId": "4d7fdaa0-caac-48c4-d747-2b565c9c68d8"
      },
      "execution_count": 9,
      "outputs": [
        {
          "output_type": "stream",
          "name": "stdout",
          "text": [
            "+-------+------------------+\n",
            "|summary|             ureia|\n",
            "+-------+------------------+\n",
            "|  count|               414|\n",
            "|   mean|278.65700483091786|\n",
            "| stddev|136.44224930839462|\n",
            "|    min|                10|\n",
            "|    max|                95|\n",
            "+-------+------------------+\n",
            "\n"
          ]
        }
      ]
    },
    {
      "cell_type": "code",
      "source": [
        "dados_spark.describe('calcio').show(5)"
      ],
      "metadata": {
        "colab": {
          "base_uri": "https://localhost:8080/"
        },
        "id": "jL8pFpTqUHv8",
        "outputId": "862e2cc9-95f1-4ab6-807d-fc6fb1beab17"
      },
      "execution_count": 10,
      "outputs": [
        {
          "output_type": "stream",
          "name": "stdout",
          "text": [
            "+-------+------------------+\n",
            "|summary|            calcio|\n",
            "+-------+------------------+\n",
            "|  count|               414|\n",
            "|   mean| 4.114637681159421|\n",
            "| stddev|3.2176405021529146|\n",
            "|    min|              0.17|\n",
            "|    max|              9.39|\n",
            "+-------+------------------+\n",
            "\n"
          ]
        }
      ]
    },
    {
      "cell_type": "code",
      "source": [
        "# Importar a função \"col\" para trabalhar com colunas\n",
        "from pyspark.sql.functions import col\n",
        "\n",
        "#importar sql: groupBy\n",
        "from pyspark.sql import functions as F\n",
        "\n",
        "# Contar as ocorrências únicas e ordenar os resultados\n",
        "dados_spark.groupBy(\"saida\").count().orderBy(col(\"saida\").desc()).show(truncate=False)"
      ],
      "metadata": {
        "colab": {
          "base_uri": "https://localhost:8080/"
        },
        "id": "EqLXQ7bWL--X",
        "outputId": "6f5647ea-56d8-4b7f-8c38-2a0279c8f3e3"
      },
      "execution_count": 11,
      "outputs": [
        {
          "output_type": "stream",
          "name": "stdout",
          "text": [
            "+-----+-----+\n",
            "|saida|count|\n",
            "+-----+-----+\n",
            "|1    |184  |\n",
            "|0    |230  |\n",
            "+-----+-----+\n",
            "\n"
          ]
        }
      ]
    },
    {
      "cell_type": "markdown",
      "source": [
        "## Análise e extração de informações"
      ],
      "metadata": {
        "id": "SLMQruHkMOvU"
      }
    },
    {
      "cell_type": "markdown",
      "source": [
        "### Quais foram as ocorrências de PH?"
      ],
      "metadata": {
        "id": "RZsvpqq6Fcay"
      }
    },
    {
      "cell_type": "code",
      "source": [
        "ocorrencias_ph = dados_spark.groupBy('ph').agg(F.count('ph').alias('count(ph)')).orderBy(F.desc('count(ph)')).show(truncate=False)"
      ],
      "metadata": {
        "id": "xuxzdgTL-f_3",
        "colab": {
          "base_uri": "https://localhost:8080/"
        },
        "outputId": "0a6106a9-1779-455a-8c48-ffcd7d8fd8ab"
      },
      "execution_count": 12,
      "outputs": [
        {
          "output_type": "stream",
          "name": "stdout",
          "text": [
            "+----+---------+\n",
            "|ph  |count(ph)|\n",
            "+----+---------+\n",
            "|5.53|34       |\n",
            "|5.68|16       |\n",
            "|6.13|13       |\n",
            "|5.58|13       |\n",
            "|6.19|12       |\n",
            "|6.79|11       |\n",
            "|5.87|11       |\n",
            "|5.71|10       |\n",
            "|5.94|9        |\n",
            "|5.24|9        |\n",
            "|5.51|9        |\n",
            "|6.29|9        |\n",
            "|6.76|9        |\n",
            "|5.62|9        |\n",
            "|6.28|8        |\n",
            "|5.21|8        |\n",
            "|7.38|8        |\n",
            "|5.41|8        |\n",
            "|5.66|8        |\n",
            "|5.44|8        |\n",
            "+----+---------+\n",
            "only showing top 20 rows\n",
            "\n"
          ]
        }
      ]
    },
    {
      "cell_type": "markdown",
      "source": [
        "### Como foi as ocorrências de Cálcio dos pacientes?"
      ],
      "metadata": {
        "id": "GY2Y-iRiNg1L"
      }
    },
    {
      "cell_type": "code",
      "source": [
        "ocorrencias_calcio = dados_spark.groupBy('calcio').agg(F.count('calcio').alias('count(calcio)')).orderBy(F.desc('count(calcio)')).show(truncate=False)"
      ],
      "metadata": {
        "colab": {
          "base_uri": "https://localhost:8080/"
        },
        "id": "r92eeg-0Nfy1",
        "outputId": "96c57d8d-b58a-43b1-dc89-3bd157bae3a4"
      },
      "execution_count": 13,
      "outputs": [
        {
          "output_type": "stream",
          "name": "stdout",
          "text": [
            "+------+-------------+\n",
            "|calcio|count(calcio)|\n",
            "+------+-------------+\n",
            "|4.49  |23           |\n",
            "|1.16  |17           |\n",
            "|1.27  |16           |\n",
            "|2.45  |12           |\n",
            "|3.98  |11           |\n",
            "|3.34  |11           |\n",
            "|12.68 |10           |\n",
            "|8.48  |10           |\n",
            "|2.21  |10           |\n",
            "|2.31  |10           |\n",
            "|8.94  |10           |\n",
            "|6.96  |10           |\n",
            "|3.46  |9            |\n",
            "|6.99  |9            |\n",
            "|9.39  |9            |\n",
            "|2.64  |8            |\n",
            "|1.53  |8            |\n",
            "|4.18  |8            |\n",
            "|3.01  |7            |\n",
            "|0.83  |7            |\n",
            "+------+-------------+\n",
            "only showing top 20 rows\n",
            "\n"
          ]
        }
      ]
    },
    {
      "cell_type": "markdown",
      "source": [
        "### Como foi as ocorrências de ureia?"
      ],
      "metadata": {
        "id": "ndJ4tQ5WFjXS"
      }
    },
    {
      "cell_type": "code",
      "source": [
        "ocorrencias_ureia = dados_spark.groupBy('ureia').agg(F.count('ureia').alias('count(ureia)')).orderBy(F.desc('count(ureia)')).show(truncate=False)"
      ],
      "metadata": {
        "id": "ZoT4xMQOB2wR",
        "colab": {
          "base_uri": "https://localhost:8080/"
        },
        "outputId": "33d62e8a-7fd7-48a1-9e93-7126d91858d9"
      },
      "execution_count": 14,
      "outputs": [
        {
          "output_type": "stream",
          "name": "stdout",
          "text": [
            "+-----+------------+\n",
            "|ureia|count(ureia)|\n",
            "+-----+------------+\n",
            "|159  |16          |\n",
            "|87   |14          |\n",
            "|385  |13          |\n",
            "|395  |13          |\n",
            "|75   |11          |\n",
            "|195  |10          |\n",
            "|398  |10          |\n",
            "|620  |10          |\n",
            "|382  |10          |\n",
            "|301  |10          |\n",
            "|214  |9           |\n",
            "|199  |9           |\n",
            "|224  |9           |\n",
            "|349  |9           |\n",
            "|178  |9           |\n",
            "|239  |9           |\n",
            "|64   |8           |\n",
            "|124  |8           |\n",
            "|430  |8           |\n",
            "|170  |8           |\n",
            "+-----+------------+\n",
            "only showing top 20 rows\n",
            "\n"
          ]
        }
      ]
    },
    {
      "cell_type": "markdown",
      "source": [
        "Podemos perceber algumas ocorrências entre o PH, o cálcio e a ureia dos pacientes. Com o desenvolvimento das análises poderemos criar a relação entre os fatores e a saída do cálculo renal."
      ],
      "metadata": {
        "id": "i-g96bmDRCrr"
      }
    },
    {
      "cell_type": "markdown",
      "source": [
        "## Valores nulos"
      ],
      "metadata": {
        "id": "IcWsUpU4TNnd"
      }
    },
    {
      "cell_type": "code",
      "source": [
        "#Dados faltantes\n",
        "dados_spark.select([F.count(F.when(F.isnull(c), c)).alias(c) for c in dados_spark.columns]).show()"
      ],
      "metadata": {
        "id": "7lObwNKmmQLF",
        "colab": {
          "base_uri": "https://localhost:8080/"
        },
        "outputId": "75de1b71-a4ce-462e-c9e0-285ce72a087d"
      },
      "execution_count": 15,
      "outputs": [
        {
          "output_type": "stream",
          "name": "stdout",
          "text": [
            "+---+---------+---+----+----+-----+------+-----+\n",
            "| id|gravidade| ph|osmo|cond|ureia|calcio|saida|\n",
            "+---+---------+---+----+----+-----+------+-----+\n",
            "|  0|        0|  0|   0|   0|    0|     0|    0|\n",
            "+---+---------+---+----+----+-----+------+-----+\n",
            "\n"
          ]
        }
      ]
    },
    {
      "cell_type": "markdown",
      "source": [
        "Podemos perceber que a base de dados não possui nenhum valor nulo. Nesse caso, vamos prosseguir para o treinamento dos dados."
      ],
      "metadata": {
        "id": "TqirGNjyWcK7"
      }
    },
    {
      "cell_type": "markdown",
      "source": [
        "## Criando uma instância para trabalhar no Modelo de classificação"
      ],
      "metadata": {
        "id": "9lhPziOzWAQG"
      }
    },
    {
      "cell_type": "code",
      "source": [
        "from pyspark.sql.types import StructType, StructField, IntegerType, DoubleType\n",
        "\n",
        "# Inicializando a sessão Spark\n",
        "spark = SparkSession.builder.appName(\"DecisionTree\").getOrCreate()\n",
        "\n",
        "#Definição do DataFrame com base nos tipos de dados do conjunto de dados\n",
        "schema = StructType([\n",
        "    StructField(\"id\", IntegerType(), True),\n",
        "    StructField(\"gravidade\", DoubleType(), True),\n",
        "    StructField(\"ph\", DoubleType(), True),\n",
        "    StructField(\"osmo\", IntegerType(), True),\n",
        "    StructField(\"cond\", DoubleType(), True),\n",
        "    StructField(\"ureia\", IntegerType(), True),\n",
        "    StructField(\"calcio\", DoubleType(), True),\n",
        "    StructField(\"saida\", IntegerType(), True)\n",
        "])\n",
        "\n",
        "seu_caminho = '/content/calculo_renal.csv'\n",
        "\n",
        "df = spark.read.csv(seu_caminho, header=True, schema=schema)\n",
        "\n",
        "# Visualize os primeiros registros do DataFrame\n",
        "df.show(5)\n"
      ],
      "metadata": {
        "colab": {
          "base_uri": "https://localhost:8080/"
        },
        "id": "aITnYKl10NWY",
        "outputId": "03474d39-b688-4ced-967f-bf58eb0eb1da"
      },
      "execution_count": 16,
      "outputs": [
        {
          "output_type": "stream",
          "name": "stdout",
          "text": [
            "+---+---------+----+----+----+-----+------+-----+\n",
            "| id|gravidade|  ph|osmo|cond|ureia|calcio|saida|\n",
            "+---+---------+----+----+----+-----+------+-----+\n",
            "|  0|    1.013|6.19| 443|14.8|  124|  1.45|    0|\n",
            "|  1|    1.025| 5.4| 703|23.6|  394|  4.18|    0|\n",
            "|  2|    1.009|6.13| 371|24.5|  159|  9.04|    0|\n",
            "|  3|    1.021|4.91| 442|20.8|  398|  6.63|    1|\n",
            "|  4|    1.021|5.53| 874|17.8|  385|  2.21|    1|\n",
            "+---+---------+----+----+----+-----+------+-----+\n",
            "only showing top 5 rows\n",
            "\n"
          ]
        }
      ]
    },
    {
      "cell_type": "code",
      "source": [
        "from pyspark.ml.feature import VectorAssembler\n",
        "\n",
        "# Criando o VectorAssembler\n",
        "feature_cols = [\"gravidade\", \"ph\", \"osmo\", \"cond\", \"ureia\", \"calcio\"]\n",
        "assembler = VectorAssembler(inputCols=feature_cols, outputCol=\"features\")\n",
        "\n",
        "# Aplicando o VectorAssembler no DataFrame\n",
        "data_with_features = assembler.transform(df)\n",
        "\n",
        "# Resultado\n",
        "data_with_features.show(5)\n"
      ],
      "metadata": {
        "colab": {
          "base_uri": "https://localhost:8080/"
        },
        "id": "ngiCPDf83hNI",
        "outputId": "83fa6f24-3445-4e64-e967-ff934fd21522"
      },
      "execution_count": 17,
      "outputs": [
        {
          "output_type": "stream",
          "name": "stdout",
          "text": [
            "+---+---------+----+----+----+-----+------+-----+--------------------+\n",
            "| id|gravidade|  ph|osmo|cond|ureia|calcio|saida|            features|\n",
            "+---+---------+----+----+----+-----+------+-----+--------------------+\n",
            "|  0|    1.013|6.19| 443|14.8|  124|  1.45|    0|[1.013,6.19,443.0...|\n",
            "|  1|    1.025| 5.4| 703|23.6|  394|  4.18|    0|[1.025,5.4,703.0,...|\n",
            "|  2|    1.009|6.13| 371|24.5|  159|  9.04|    0|[1.009,6.13,371.0...|\n",
            "|  3|    1.021|4.91| 442|20.8|  398|  6.63|    1|[1.021,4.91,442.0...|\n",
            "|  4|    1.021|5.53| 874|17.8|  385|  2.21|    1|[1.021,5.53,874.0...|\n",
            "+---+---------+----+----+----+-----+------+-----+--------------------+\n",
            "only showing top 5 rows\n",
            "\n"
          ]
        }
      ]
    },
    {
      "cell_type": "code",
      "source": [
        "# Divida os dados em conjuntos de treinamento e teste\n",
        "train_data, test_data = data_with_features.randomSplit([0.8, 0.2], seed=123)\n",
        "\n",
        "# Inicialize o modelo de Árvore de Decisão\n",
        "dt = DecisionTreeClassifier(featuresCol=\"features\", labelCol=\"saida\")"
      ],
      "metadata": {
        "id": "KkZnL3Ct5-_B"
      },
      "execution_count": 18,
      "outputs": []
    },
    {
      "cell_type": "code",
      "source": [
        "# Treine o modelo de Árvore de Decisão\n",
        "model = dt.fit(train_data)\n",
        "\n",
        "# Faça previsões no conjunto de teste\n",
        "predictions = model.transform(test_data)\n",
        "\n",
        "# Exiba as previsões e os valores reais\n",
        "predictions.select(\"id\", \"gravidade\", \"ph\", \"osmo\", \"cond\", \"ureia\", \"calcio\", \"saida\", \"prediction\").show()\n"
      ],
      "metadata": {
        "colab": {
          "base_uri": "https://localhost:8080/"
        },
        "id": "aqhfs-Mj6MNI",
        "outputId": "dccc95fb-3bb1-4c3b-d766-a6c775754672"
      },
      "execution_count": 19,
      "outputs": [
        {
          "output_type": "stream",
          "name": "stdout",
          "text": [
            "+---+---------+----+----+----+-----+------+-----+----------+\n",
            "| id|gravidade|  ph|osmo|cond|ureia|calcio|saida|prediction|\n",
            "+---+---------+----+----+----+-----+------+-----+----------+\n",
            "|  2|    1.009|6.13| 371|24.5|  159|  9.04|    0|       1.0|\n",
            "|  6|    1.008|5.09| 371|15.5|  159|  2.17|    1|       0.0|\n",
            "| 12|    1.017|6.79| 541|20.0|  187|  6.96|    1|       1.0|\n",
            "| 13|    1.021|6.56| 703|22.2|  418|  4.18|    1|       1.0|\n",
            "| 18|    1.018|6.13| 416|12.8|  178|  3.01|    0|       0.0|\n",
            "| 23|    1.007|5.87| 704|23.6|  260|  1.53|    0|       0.0|\n",
            "| 29|    1.015|6.61| 416|11.2|  178|  3.98|    0|       1.0|\n",
            "| 30|     1.02|5.58| 668|25.3|  252|  2.33|    0|       0.0|\n",
            "| 33|    1.021|5.53| 781|23.6|  349|  2.21|    0|       0.0|\n",
            "| 34|    1.011|7.01| 443|25.7|  124|  1.45|    1|       0.0|\n",
            "| 35|    1.009|6.29| 242|12.2|   87|  1.19|    0|       0.0|\n",
            "| 38|    1.025|6.75| 840|32.6|  395|  4.54|    0|       1.0|\n",
            "| 40|    1.015|5.41| 450|11.2|  170|  2.64|    0|       0.0|\n",
            "| 47|    1.021|5.66|1032|27.0|  430|  7.18|    1|       1.0|\n",
            "| 55|     1.02|6.03| 631|21.4|  422|  5.67|    0|       1.0|\n",
            "| 61|    1.014|6.29| 416|11.2|  178|  1.52|    0|       0.0|\n",
            "| 77|    1.017|6.24| 631|29.0|  457|  4.49|    0|       1.0|\n",
            "| 80|     1.01| 7.2| 343|11.3|  126|  1.06|    0|       0.0|\n",
            "| 85|     1.02|5.86| 567|25.3|  214|  3.34|    0|       0.0|\n",
            "| 95|    1.021|5.16| 947|26.0|  398|  8.94|    1|       1.0|\n",
            "+---+---------+----+----+----+-----+------+-----+----------+\n",
            "only showing top 20 rows\n",
            "\n"
          ]
        }
      ]
    },
    {
      "cell_type": "code",
      "source": [
        "from pyspark.ml.evaluation import MulticlassClassificationEvaluator\n",
        "\n",
        "# Avalie o modelo com precisão, recall e acurácia\n",
        "evaluator = MulticlassClassificationEvaluator(labelCol=\"saida\", predictionCol=\"prediction\", metricName=\"accuracy\")\n",
        "accuracy = evaluator.evaluate(predictions)\n",
        "\n",
        "precision_evaluator = MulticlassClassificationEvaluator(labelCol=\"saida\", predictionCol=\"prediction\", metricName=\"weightedPrecision\")\n",
        "precision = precision_evaluator.evaluate(predictions)\n",
        "\n",
        "recall_evaluator = MulticlassClassificationEvaluator(labelCol=\"saida\", predictionCol=\"prediction\", metricName=\"weightedRecall\")\n",
        "recall = recall_evaluator.evaluate(predictions)\n",
        "\n",
        "print(\"Acurácia do Modelo:\", accuracy)\n",
        "print(\"Precisão do Modelo:\", precision)\n",
        "print(\"Recall do Modelo:\", recall)\n",
        "\n",
        "# Encerre a sessão Spark\n",
        "spark.stop()\n"
      ],
      "metadata": {
        "colab": {
          "base_uri": "https://localhost:8080/"
        },
        "id": "XaDNGupD76wo",
        "outputId": "57e8d8c5-cfde-43e6-ed7e-9214af06510f"
      },
      "execution_count": 20,
      "outputs": [
        {
          "output_type": "stream",
          "name": "stdout",
          "text": [
            "Acurácia do Modelo: 0.6746987951807228\n",
            "Precisão do Modelo: 0.6748947007542365\n",
            "Recall do Modelo: 0.6746987951807228\n"
          ]
        }
      ]
    }
  ]
}